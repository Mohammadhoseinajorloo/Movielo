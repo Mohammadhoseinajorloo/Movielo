{
 "cells": [
  {
   "cell_type": "markdown",
   "metadata": {},
   "source": [
    "# Analize"
   ]
  },
  {
   "cell_type": "markdown",
   "metadata": {},
   "source": [
    "## Step 1: Import Dependencies"
   ]
  },
  {
   "cell_type": "code",
   "execution_count": 1073,
   "metadata": {},
   "outputs": [],
   "source": [
    "import numpy as np\n",
    "import pandas as pd\n",
    "import matplotlib.pyplot as plt\n",
    "import seaborn as sns"
   ]
  },
  {
   "cell_type": "markdown",
   "metadata": {},
   "source": [
    "## Step 2 : Load Dataset"
   ]
  },
  {
   "cell_type": "code",
   "execution_count": 1074,
   "metadata": {},
   "outputs": [],
   "source": [
    "ratings_path = \"/home/mohammad/Documents/PROJECTS/Movielo/data/ml-latest-small/ratings.csv\"\n",
    "ratings = pd.read_csv(ratings_path)"
   ]
  },
  {
   "cell_type": "code",
   "execution_count": 1075,
   "metadata": {},
   "outputs": [],
   "source": [
    "movies_path = \"/home/mohammad/Documents/PROJECTS/Movielo/data/ml-latest-small/movies.csv\"\n",
    "movies = pd.read_csv(movies_path)"
   ]
  },
  {
   "cell_type": "markdown",
   "metadata": {},
   "source": [
    "## Step 3 : Exploratory Data Analysis"
   ]
  },
  {
   "cell_type": "code",
   "execution_count": 1076,
   "metadata": {},
   "outputs": [
    {
     "name": "stdout",
     "output_type": "stream",
     "text": [
      "Number of ratings: 100836\n",
      "Number of unique movieId's :9724\n",
      "Number of unique movieId's :610\n",
      "Average number of ratings per user : 165.3\n",
      "Average number of ratings per movie : 10.37\n"
     ]
    }
   ],
   "source": [
    "n_ratings = len(ratings)\n",
    "n_movies = ratings[\"movieId\"].nunique()\n",
    "n_users = ratings[\"userId\"].nunique()\n",
    "\n",
    "print(f\"Number of ratings: {n_ratings}\")\n",
    "print(f\"Number of unique movieId's :{n_movies}\")\n",
    "print(f\"Number of unique movieId's :{n_users}\")\n",
    "print(f\"Average number of ratings per user : {round(n_ratings/n_users, 2)}\")\n",
    "print(f\"Average number of ratings per movie : {round(n_ratings/n_movies, 2)}\")"
   ]
  },
  {
   "cell_type": "markdown",
   "metadata": {},
   "source": [
    "What is the distribution of movie ratings?"
   ]
  },
  {
   "cell_type": "code",
   "execution_count": 1077,
   "metadata": {},
   "outputs": [
    {
     "data": {
      "image/png": "[encoded data removed]",
      "text/plain": [
       "<Figure size 640x480 with 1 Axes>"
      ]
     },
     "metadata": {},
     "output_type": "display_data"
    }
   ],
   "source": [
    "sns.countplot(x=\"rating\", data=ratings)\n",
    "plt.title(\"Distribution of movie ratings\", fontsize=14)\n",
    "plt.show()"
   ]
  },
  {
   "cell_type": "code",
   "execution_count": 1078,
   "metadata": {},
   "outputs": [
    {
     "name": "stdout",
     "output_type": "stream",
     "text": [
      "Mean global rating: 3.5\n"
     ]
    }
   ],
   "source": [
    "mean_global_ratings = ratings[\"rating\"].mean()\n",
    "print(f\"Mean global rating: {round(mean_global_ratings, 2)}\")"
   ]
  },
  {
   "cell_type": "code",
   "execution_count": 1079,
   "metadata": {},
   "outputs": [
    {
     "name": "stdout",
     "output_type": "stream",
     "text": [
      "Mean rating per user : 3.66\n"
     ]
    }
   ],
   "source": [
    "mean_rating_user = ratings.groupby(\"userId\")[\"rating\"].mean()\n",
    "print(f\"Mean rating per user : {round(mean_rating_user.mean(), 2)}\")"
   ]
  },
  {
   "cell_type": "markdown",
   "metadata": {},
   "source": [
    "which movies are most frequently rated?"
   ]
  },
  {
   "cell_type": "code",
   "execution_count": 1080,
   "metadata": {},
   "outputs": [
    {
     "data": {
      "text/plain": [
       "title\n",
       "Forrest Gump (1994)                          329\n",
       "Shawshank Redemption, The (1994)             317\n",
       "Pulp Fiction (1994)                          307\n",
       "Silence of the Lambs, The (1991)             279\n",
       "Matrix, The (1999)                           278\n",
       "Star Wars: Episode IV - A New Hope (1977)    251\n",
       "Jurassic Park (1993)                         238\n",
       "Braveheart (1995)                            237\n",
       "Terminator 2: Judgment Day (1991)            224\n",
       "Schindler's List (1993)                      220\n",
       "Name: count, dtype: int64"
      ]
     },
     "execution_count": 1080,
     "metadata": {},
     "output_type": "execute_result"
    }
   ],
   "source": [
    "movie_ratings = ratings.merge(movies, on=\"movieId\").sort_values(by=\"movieId\")\n",
    "movie_ratings[\"title\"].value_counts()[:10]\n"
   ]
  },
  {
   "cell_type": "markdown",
   "metadata": {},
   "source": [
    "What are the lowest and highest rated movies?"
   ]
  },
  {
   "cell_type": "code",
   "execution_count": 1081,
   "metadata": {},
   "outputs": [
    {
     "data": {
      "text/html": [
       "<div>\n",
       "<style scoped>\n",
       "    .dataframe tbody tr th:only-of-type {\n",
       "        vertical-align: middle;\n",
       "    }\n",
       "\n",
       "    .dataframe tbody tr th {\n",
       "        vertical-align: top;\n",
       "    }\n",
       "\n",
       "    .dataframe thead th {\n",
       "        text-align: right;\n",
       "    }\n",
       "</style>\n",
       "<table border=\"1\" class=\"dataframe\">\n",
       "  <thead>\n",
       "    <tr style=\"text-align: right;\">\n",
       "      <th></th>\n",
       "      <th>movieId</th>\n",
       "      <th>title</th>\n",
       "      <th>genres</th>\n",
       "    </tr>\n",
       "  </thead>\n",
       "  <tbody>\n",
       "    <tr>\n",
       "      <th>2689</th>\n",
       "      <td>3604</td>\n",
       "      <td>Gypsy (1962)</td>\n",
       "      <td>Musical</td>\n",
       "    </tr>\n",
       "  </tbody>\n",
       "</table>\n",
       "</div>"
      ],
      "text/plain": [
       "      movieId         title   genres\n",
       "2689     3604  Gypsy (1962)  Musical"
      ]
     },
     "execution_count": 1081,
     "metadata": {},
     "output_type": "execute_result"
    }
   ],
   "source": [
    "mean_ratings = ratings.groupby(\"movieId\")[[\"rating\"]].mean()\n",
    "lowest_rated = mean_ratings[\"rating\"].idxmin()\n",
    "movies[movies[\"movieId\"] == lowest_rated]"
   ]
  },
  {
   "cell_type": "code",
   "execution_count": 1082,
   "metadata": {},
   "outputs": [
    {
     "data": {
      "text/html": [
       "<div>\n",
       "<style scoped>\n",
       "    .dataframe tbody tr th:only-of-type {\n",
       "        vertical-align: middle;\n",
       "    }\n",
       "\n",
       "    .dataframe tbody tr th {\n",
       "        vertical-align: top;\n",
       "    }\n",
       "\n",
       "    .dataframe thead th {\n",
       "        text-align: right;\n",
       "    }\n",
       "</style>\n",
       "<table border=\"1\" class=\"dataframe\">\n",
       "  <thead>\n",
       "    <tr style=\"text-align: right;\">\n",
       "      <th></th>\n",
       "      <th>movieId</th>\n",
       "      <th>title</th>\n",
       "      <th>genres</th>\n",
       "    </tr>\n",
       "  </thead>\n",
       "  <tbody>\n",
       "    <tr>\n",
       "      <th>48</th>\n",
       "      <td>53</td>\n",
       "      <td>Lamerica (1994)</td>\n",
       "      <td>Adventure|Drama</td>\n",
       "    </tr>\n",
       "  </tbody>\n",
       "</table>\n",
       "</div>"
      ],
      "text/plain": [
       "    movieId            title           genres\n",
       "48       53  Lamerica (1994)  Adventure|Drama"
      ]
     },
     "execution_count": 1082,
     "metadata": {},
     "output_type": "execute_result"
    }
   ],
   "source": [
    "highest_rated = mean_ratings[\"rating\"].idxmax()\n",
    "movies[movies[\"movieId\"] == highest_rated]"
   ]
  },
  {
   "cell_type": "code",
   "execution_count": 1083,
   "metadata": {},
   "outputs": [
    {
     "data": {
      "text/html": [
       "<div>\n",
       "<style scoped>\n",
       "    .dataframe tbody tr th:only-of-type {\n",
       "        vertical-align: middle;\n",
       "    }\n",
       "\n",
       "    .dataframe tbody tr th {\n",
       "        vertical-align: top;\n",
       "    }\n",
       "\n",
       "    .dataframe thead th {\n",
       "        text-align: right;\n",
       "    }\n",
       "</style>\n",
       "<table border=\"1\" class=\"dataframe\">\n",
       "  <thead>\n",
       "    <tr style=\"text-align: right;\">\n",
       "      <th></th>\n",
       "      <th>userId</th>\n",
       "      <th>movieId</th>\n",
       "      <th>rating</th>\n",
       "      <th>timestamp</th>\n",
       "    </tr>\n",
       "  </thead>\n",
       "  <tbody>\n",
       "    <tr>\n",
       "      <th>13368</th>\n",
       "      <td>85</td>\n",
       "      <td>53</td>\n",
       "      <td>5.0</td>\n",
       "      <td>889468268</td>\n",
       "    </tr>\n",
       "    <tr>\n",
       "      <th>96115</th>\n",
       "      <td>603</td>\n",
       "      <td>53</td>\n",
       "      <td>5.0</td>\n",
       "      <td>963180003</td>\n",
       "    </tr>\n",
       "  </tbody>\n",
       "</table>\n",
       "</div>"
      ],
      "text/plain": [
       "       userId  movieId  rating  timestamp\n",
       "13368      85       53     5.0  889468268\n",
       "96115     603       53     5.0  963180003"
      ]
     },
     "execution_count": 1083,
     "metadata": {},
     "output_type": "execute_result"
    }
   ],
   "source": [
    "ratings[ratings[\"movieId\"] == highest_rated]"
   ]
  },
  {
   "cell_type": "markdown",
   "metadata": {},
   "source": [
    "# Description of Bayesian Average\n",
    "The Bayesian average is a statistical method used to estimate the mean of a set of data that incorporates prior knowledge or beliefs about the data. This approach is particularly useful in situations where data sets are small or where certain values are overrepresented, helping to mitigate the effect of outliers and providing a more balanced estimation.\n",
    "\n",
    "1. ## Prior Information:\n",
    "\n",
    "- Bayesian average incorporates prior beliefs or knowledge about the data, which is usually represented as a prior distribution.\n",
    "- The prior distribution reflects what is known about the parameter before observing the data.\n",
    "\n",
    "2. Likelihood:\n",
    "\n",
    "- The likelihood is the probability of the observed data given a particular value of the parameter.\n",
    "- It represents the information gained from the actual observed data.\n",
    "\n",
    "3. Posterior Distribution:\n",
    "\n",
    "- he combination of prior distribution and likelihood yields the posterior distribution.\n",
    "- The posterior distribution represents the updated beliefs about the parameter after considering the observed data.\n",
    "\n",
    "4. Formula:\n",
    "\n",
    " ![](https://cdn.analyticsvidhya.com/wp-content/uploads/2019/06/bayesianParameter.jpg.jpg)"
   ]
  },
  {
   "cell_type": "code",
   "execution_count": 1084,
   "metadata": {},
   "outputs": [],
   "source": [
    "movies_state = ratings.groupby(\"movieId\")[\"rating\"].agg([\"count\", \"mean\"])\n"
   ]
  },
  {
   "cell_type": "code",
   "execution_count": 1085,
   "metadata": {},
   "outputs": [
    {
     "name": "stdout",
     "output_type": "stream",
     "text": [
      "Average number of ratings for a given movies: 10.37\n",
      "Average ratings for a given movie: 3.26\n"
     ]
    }
   ],
   "source": [
    "c = movies_state[\"count\"].mean()\n",
    "m = movies_state[\"mean\"].mean()\n",
    "\n",
    "print(f\"Average number of ratings for a given movies: {c:.2f}\")\n",
    "print(f\"Average ratings for a given movie: {m:.2f}\")\n",
    "\n",
    "def bayesian_avg(ratings):\n",
    "    bayesian_avg = (c*m+ratings.sum())/(c+ratings.count())\n",
    "    return round(bayesian_avg, 3)"
   ]
  },
  {
   "cell_type": "code",
   "execution_count": 1086,
   "metadata": {},
   "outputs": [],
   "source": [
    "bayesian_avg_ratings = ratings.groupby(\"movieId\")[\"rating\"].agg(bayesian_avg).reset_index()\n",
    "bayesian_avg_ratings.columns = [\"movieId\", \"bayesians_avg\"]\n",
    "movie_stats = movies_state.merge(bayesian_avg_ratings, on=\"movieId\")\n"
   ]
  },
  {
   "cell_type": "code",
   "execution_count": 1087,
   "metadata": {},
   "outputs": [
    {
     "data": {
      "text/html": [
       "<div>\n",
       "<style scoped>\n",
       "    .dataframe tbody tr th:only-of-type {\n",
       "        vertical-align: middle;\n",
       "    }\n",
       "\n",
       "    .dataframe tbody tr th {\n",
       "        vertical-align: top;\n",
       "    }\n",
       "\n",
       "    .dataframe thead th {\n",
       "        text-align: right;\n",
       "    }\n",
       "</style>\n",
       "<table border=\"1\" class=\"dataframe\">\n",
       "  <thead>\n",
       "    <tr style=\"text-align: right;\">\n",
       "      <th></th>\n",
       "      <th>movieId</th>\n",
       "      <th>count</th>\n",
       "      <th>mean</th>\n",
       "      <th>bayesians_avg</th>\n",
       "      <th>title</th>\n",
       "    </tr>\n",
       "  </thead>\n",
       "  <tbody>\n",
       "    <tr>\n",
       "      <th>277</th>\n",
       "      <td>318</td>\n",
       "      <td>317</td>\n",
       "      <td>4.429022</td>\n",
       "      <td>4.392</td>\n",
       "      <td>Shawshank Redemption, The (1994)</td>\n",
       "    </tr>\n",
       "    <tr>\n",
       "      <th>659</th>\n",
       "      <td>858</td>\n",
       "      <td>192</td>\n",
       "      <td>4.289062</td>\n",
       "      <td>4.236</td>\n",
       "      <td>Godfather, The (1972)</td>\n",
       "    </tr>\n",
       "    <tr>\n",
       "      <th>2224</th>\n",
       "      <td>2959</td>\n",
       "      <td>218</td>\n",
       "      <td>4.272936</td>\n",
       "      <td>4.227</td>\n",
       "      <td>Fight Club (1999)</td>\n",
       "    </tr>\n",
       "    <tr>\n",
       "      <th>224</th>\n",
       "      <td>260</td>\n",
       "      <td>251</td>\n",
       "      <td>4.231076</td>\n",
       "      <td>4.193</td>\n",
       "      <td>Star Wars: Episode IV - A New Hope (1977)</td>\n",
       "    </tr>\n",
       "    <tr>\n",
       "      <th>46</th>\n",
       "      <td>50</td>\n",
       "      <td>204</td>\n",
       "      <td>4.237745</td>\n",
       "      <td>4.191</td>\n",
       "      <td>Usual Suspects, The (1995)</td>\n",
       "    </tr>\n",
       "    <tr>\n",
       "      <th>...</th>\n",
       "      <td>...</td>\n",
       "      <td>...</td>\n",
       "      <td>...</td>\n",
       "      <td>...</td>\n",
       "      <td>...</td>\n",
       "    </tr>\n",
       "    <tr>\n",
       "      <th>1988</th>\n",
       "      <td>2643</td>\n",
       "      <td>16</td>\n",
       "      <td>1.687500</td>\n",
       "      <td>2.307</td>\n",
       "      <td>Superman IV: The Quest for Peace (1987)</td>\n",
       "    </tr>\n",
       "    <tr>\n",
       "      <th>1144</th>\n",
       "      <td>1499</td>\n",
       "      <td>27</td>\n",
       "      <td>1.925926</td>\n",
       "      <td>2.297</td>\n",
       "      <td>Anaconda (1997)</td>\n",
       "    </tr>\n",
       "    <tr>\n",
       "      <th>1372</th>\n",
       "      <td>1882</td>\n",
       "      <td>33</td>\n",
       "      <td>1.954545</td>\n",
       "      <td>2.267</td>\n",
       "      <td>Godzilla (1998)</td>\n",
       "    </tr>\n",
       "    <tr>\n",
       "      <th>2679</th>\n",
       "      <td>3593</td>\n",
       "      <td>19</td>\n",
       "      <td>1.657895</td>\n",
       "      <td>2.224</td>\n",
       "      <td>Battlefield Earth (2000)</td>\n",
       "    </tr>\n",
       "    <tr>\n",
       "      <th>1172</th>\n",
       "      <td>1556</td>\n",
       "      <td>19</td>\n",
       "      <td>1.605263</td>\n",
       "      <td>2.190</td>\n",
       "      <td>Speed 2: Cruise Control (1997)</td>\n",
       "    </tr>\n",
       "  </tbody>\n",
       "</table>\n",
       "<p>9724 rows × 5 columns</p>\n",
       "</div>"
      ],
      "text/plain": [
       "      movieId  count      mean  bayesians_avg  \\\n",
       "277       318    317  4.429022          4.392   \n",
       "659       858    192  4.289062          4.236   \n",
       "2224     2959    218  4.272936          4.227   \n",
       "224       260    251  4.231076          4.193   \n",
       "46         50    204  4.237745          4.191   \n",
       "...       ...    ...       ...            ...   \n",
       "1988     2643     16  1.687500          2.307   \n",
       "1144     1499     27  1.925926          2.297   \n",
       "1372     1882     33  1.954545          2.267   \n",
       "2679     3593     19  1.657895          2.224   \n",
       "1172     1556     19  1.605263          2.190   \n",
       "\n",
       "                                          title  \n",
       "277            Shawshank Redemption, The (1994)  \n",
       "659                       Godfather, The (1972)  \n",
       "2224                          Fight Club (1999)  \n",
       "224   Star Wars: Episode IV - A New Hope (1977)  \n",
       "46                   Usual Suspects, The (1995)  \n",
       "...                                         ...  \n",
       "1988    Superman IV: The Quest for Peace (1987)  \n",
       "1144                            Anaconda (1997)  \n",
       "1372                            Godzilla (1998)  \n",
       "2679                   Battlefield Earth (2000)  \n",
       "1172             Speed 2: Cruise Control (1997)  \n",
       "\n",
       "[9724 rows x 5 columns]"
      ]
     },
     "execution_count": 1087,
     "metadata": {},
     "output_type": "execute_result"
    }
   ],
   "source": [
    "movie_stats = movie_stats.merge(movies[[\"movieId\", \"title\"]])\n",
    "movie_stats.sort_values(by=\"bayesians_avg\", ascending=False)"
   ]
  },
  {
   "cell_type": "code",
   "execution_count": 1088,
   "metadata": {},
   "outputs": [
    {
     "data": {
      "text/html": [
       "<div>\n",
       "<style scoped>\n",
       "    .dataframe tbody tr th:only-of-type {\n",
       "        vertical-align: middle;\n",
       "    }\n",
       "\n",
       "    .dataframe tbody tr th {\n",
       "        vertical-align: top;\n",
       "    }\n",
       "\n",
       "    .dataframe thead th {\n",
       "        text-align: right;\n",
       "    }\n",
       "</style>\n",
       "<table border=\"1\" class=\"dataframe\">\n",
       "  <thead>\n",
       "    <tr style=\"text-align: right;\">\n",
       "      <th></th>\n",
       "      <th>movieId</th>\n",
       "      <th>count</th>\n",
       "      <th>mean</th>\n",
       "      <th>bayesians_avg</th>\n",
       "      <th>title</th>\n",
       "    </tr>\n",
       "  </thead>\n",
       "  <tbody>\n",
       "    <tr>\n",
       "      <th>1172</th>\n",
       "      <td>1556</td>\n",
       "      <td>19</td>\n",
       "      <td>1.605263</td>\n",
       "      <td>2.190</td>\n",
       "      <td>Speed 2: Cruise Control (1997)</td>\n",
       "    </tr>\n",
       "    <tr>\n",
       "      <th>2679</th>\n",
       "      <td>3593</td>\n",
       "      <td>19</td>\n",
       "      <td>1.657895</td>\n",
       "      <td>2.224</td>\n",
       "      <td>Battlefield Earth (2000)</td>\n",
       "    </tr>\n",
       "    <tr>\n",
       "      <th>1372</th>\n",
       "      <td>1882</td>\n",
       "      <td>33</td>\n",
       "      <td>1.954545</td>\n",
       "      <td>2.267</td>\n",
       "      <td>Godzilla (1998)</td>\n",
       "    </tr>\n",
       "    <tr>\n",
       "      <th>1144</th>\n",
       "      <td>1499</td>\n",
       "      <td>27</td>\n",
       "      <td>1.925926</td>\n",
       "      <td>2.297</td>\n",
       "      <td>Anaconda (1997)</td>\n",
       "    </tr>\n",
       "    <tr>\n",
       "      <th>1988</th>\n",
       "      <td>2643</td>\n",
       "      <td>16</td>\n",
       "      <td>1.687500</td>\n",
       "      <td>2.307</td>\n",
       "      <td>Superman IV: The Quest for Peace (1987)</td>\n",
       "    </tr>\n",
       "    <tr>\n",
       "      <th>...</th>\n",
       "      <td>...</td>\n",
       "      <td>...</td>\n",
       "      <td>...</td>\n",
       "      <td>...</td>\n",
       "      <td>...</td>\n",
       "    </tr>\n",
       "    <tr>\n",
       "      <th>46</th>\n",
       "      <td>50</td>\n",
       "      <td>204</td>\n",
       "      <td>4.237745</td>\n",
       "      <td>4.191</td>\n",
       "      <td>Usual Suspects, The (1995)</td>\n",
       "    </tr>\n",
       "    <tr>\n",
       "      <th>224</th>\n",
       "      <td>260</td>\n",
       "      <td>251</td>\n",
       "      <td>4.231076</td>\n",
       "      <td>4.193</td>\n",
       "      <td>Star Wars: Episode IV - A New Hope (1977)</td>\n",
       "    </tr>\n",
       "    <tr>\n",
       "      <th>2224</th>\n",
       "      <td>2959</td>\n",
       "      <td>218</td>\n",
       "      <td>4.272936</td>\n",
       "      <td>4.227</td>\n",
       "      <td>Fight Club (1999)</td>\n",
       "    </tr>\n",
       "    <tr>\n",
       "      <th>659</th>\n",
       "      <td>858</td>\n",
       "      <td>192</td>\n",
       "      <td>4.289062</td>\n",
       "      <td>4.236</td>\n",
       "      <td>Godfather, The (1972)</td>\n",
       "    </tr>\n",
       "    <tr>\n",
       "      <th>277</th>\n",
       "      <td>318</td>\n",
       "      <td>317</td>\n",
       "      <td>4.429022</td>\n",
       "      <td>4.392</td>\n",
       "      <td>Shawshank Redemption, The (1994)</td>\n",
       "    </tr>\n",
       "  </tbody>\n",
       "</table>\n",
       "<p>9724 rows × 5 columns</p>\n",
       "</div>"
      ],
      "text/plain": [
       "      movieId  count      mean  bayesians_avg  \\\n",
       "1172     1556     19  1.605263          2.190   \n",
       "2679     3593     19  1.657895          2.224   \n",
       "1372     1882     33  1.954545          2.267   \n",
       "1144     1499     27  1.925926          2.297   \n",
       "1988     2643     16  1.687500          2.307   \n",
       "...       ...    ...       ...            ...   \n",
       "46         50    204  4.237745          4.191   \n",
       "224       260    251  4.231076          4.193   \n",
       "2224     2959    218  4.272936          4.227   \n",
       "659       858    192  4.289062          4.236   \n",
       "277       318    317  4.429022          4.392   \n",
       "\n",
       "                                          title  \n",
       "1172             Speed 2: Cruise Control (1997)  \n",
       "2679                   Battlefield Earth (2000)  \n",
       "1372                            Godzilla (1998)  \n",
       "1144                            Anaconda (1997)  \n",
       "1988    Superman IV: The Quest for Peace (1987)  \n",
       "...                                         ...  \n",
       "46                   Usual Suspects, The (1995)  \n",
       "224   Star Wars: Episode IV - A New Hope (1977)  \n",
       "2224                          Fight Club (1999)  \n",
       "659                       Godfather, The (1972)  \n",
       "277            Shawshank Redemption, The (1994)  \n",
       "\n",
       "[9724 rows x 5 columns]"
      ]
     },
     "execution_count": 1088,
     "metadata": {},
     "output_type": "execute_result"
    }
   ],
   "source": [
    "movie_stats.sort_values(by=\"bayesians_avg\", ascending=True)"
   ]
  },
  {
   "cell_type": "code",
   "execution_count": 1089,
   "metadata": {},
   "outputs": [],
   "source": [
    "movies[\"genres\"] = movies[\"genres\"].apply(lambda x:x.split(\"|\"))\n"
   ]
  },
  {
   "cell_type": "markdown",
   "metadata": {},
   "source": [
    "### How meny mvoie geners are there?"
   ]
  },
  {
   "cell_type": "code",
   "execution_count": 1090,
   "metadata": {},
   "outputs": [
    {
     "name": "stdout",
     "output_type": "stream",
     "text": [
      "There are 20 genres.\n"
     ]
    },
    {
     "data": {
      "text/plain": [
       "Counter({'Drama': 4361,\n",
       "         'Comedy': 3756,\n",
       "         'Thriller': 1894,\n",
       "         'Action': 1828,\n",
       "         'Romance': 1596,\n",
       "         'Adventure': 1263,\n",
       "         'Crime': 1199,\n",
       "         'Sci-Fi': 980,\n",
       "         'Horror': 978,\n",
       "         'Fantasy': 779,\n",
       "         'Children': 664,\n",
       "         'Animation': 611,\n",
       "         'Mystery': 573,\n",
       "         'Documentary': 440,\n",
       "         'War': 382,\n",
       "         'Musical': 334,\n",
       "         'Western': 167,\n",
       "         'IMAX': 158,\n",
       "         'Film-Noir': 87,\n",
       "         '(no genres listed)': 34})"
      ]
     },
     "execution_count": 1090,
     "metadata": {},
     "output_type": "execute_result"
    }
   ],
   "source": [
    "from collections import Counter\n",
    "genre_frequancy = Counter(g for genres in movies[\"genres\"] for g in genres)\n",
    "print(f\"There are {len(genre_frequancy)} genres.\")\n",
    "genre_frequancy"
   ]
  },
  {
   "cell_type": "code",
   "execution_count": 1091,
   "metadata": {},
   "outputs": [
    {
     "name": "stdout",
     "output_type": "stream",
     "text": [
      "The 5 most commen genres:\n",
      " [('Drama', 4361), ('Comedy', 3756), ('Thriller', 1894), ('Action', 1828), ('Romance', 1596)]\n"
     ]
    }
   ],
   "source": [
    "print(f\"The 5 most commen genres:\\n\", genre_frequancy.most_common(5))"
   ]
  },
  {
   "cell_type": "code",
   "execution_count": 1092,
   "metadata": {},
   "outputs": [
    {
     "name": "stderr",
     "output_type": "stream",
     "text": [
      "/tmp/ipykernel_28495/2768090804.py:5: FutureWarning: \n",
      "\n",
      "Passing `palette` without assigning `hue` is deprecated and will be removed in v0.14.0. Assign the `x` variable to `hue` and set `legend=False` for the same effect.\n",
      "\n",
      "  sns.barplot(x=\"genres\", y=\"count\", data=genre_frequancy_df, palette=\"viridis\")\n"
     ]
    },
    {
     "data": {
      "image/png": "[encoded data removed]",
      "text/plain": [
       "<Figure size 640x480 with 1 Axes>"
      ]
     },
     "metadata": {},
     "output_type": "display_data"
    }
   ],
   "source": [
    "genre_frequancy_df = pd.DataFrame([genre_frequancy]).T.reset_index()\n",
    "genre_frequancy_df.columns = [\"genres\", \"count\"]\n",
    "genre_frequancy_df.sort_values(by=\"count\", ascending=False, inplace=True)\n",
    "\n",
    "sns.barplot(x=\"genres\", y=\"count\", data=genre_frequancy_df, palette=\"viridis\")\n",
    "plt.xticks(rotation=90)\n",
    "plt.show()"
   ]
  },
  {
   "cell_type": "code",
   "execution_count": 1093,
   "metadata": {},
   "outputs": [],
   "source": [
    "def release_year(x: str):\n",
    "    try:\n",
    "        title = \" \".join(x.split(\" \")[:-1])\n",
    "        year_string = int(x.strip().split(\" \")[-1][1:-1])\n",
    "    except:\n",
    "        year_string = np.nan\n",
    "    return year_string, title"
   ]
  },
  {
   "cell_type": "code",
   "execution_count": 1094,
   "metadata": {},
   "outputs": [
    {
     "data": {
      "text/html": [
       "<div>\n",
       "<style scoped>\n",
       "    .dataframe tbody tr th:only-of-type {\n",
       "        vertical-align: middle;\n",
       "    }\n",
       "\n",
       "    .dataframe tbody tr th {\n",
       "        vertical-align: top;\n",
       "    }\n",
       "\n",
       "    .dataframe thead th {\n",
       "        text-align: right;\n",
       "    }\n",
       "</style>\n",
       "<table border=\"1\" class=\"dataframe\">\n",
       "  <thead>\n",
       "    <tr style=\"text-align: right;\">\n",
       "      <th></th>\n",
       "      <th>movieId</th>\n",
       "      <th>title</th>\n",
       "      <th>genres</th>\n",
       "      <th>release_year</th>\n",
       "    </tr>\n",
       "  </thead>\n",
       "  <tbody>\n",
       "    <tr>\n",
       "      <th>0</th>\n",
       "      <td>183295</td>\n",
       "      <td>Insidious: The Last Key</td>\n",
       "      <td>[Horror, Mystery, Thriller]</td>\n",
       "      <td>2018.0</td>\n",
       "    </tr>\n",
       "    <tr>\n",
       "      <th>1</th>\n",
       "      <td>184987</td>\n",
       "      <td>A Wrinkle in Time</td>\n",
       "      <td>[Adventure, Children, Fantasy, Sci-Fi]</td>\n",
       "      <td>2018.0</td>\n",
       "    </tr>\n",
       "    <tr>\n",
       "      <th>2</th>\n",
       "      <td>187717</td>\n",
       "      <td>Won't You Be My Neighbor?</td>\n",
       "      <td>[Documentary]</td>\n",
       "      <td>2018.0</td>\n",
       "    </tr>\n",
       "    <tr>\n",
       "      <th>3</th>\n",
       "      <td>187595</td>\n",
       "      <td>Solo: A Star Wars Story</td>\n",
       "      <td>[Action, Adventure, Children, Sci-Fi]</td>\n",
       "      <td>2018.0</td>\n",
       "    </tr>\n",
       "    <tr>\n",
       "      <th>4</th>\n",
       "      <td>187593</td>\n",
       "      <td>Deadpool 2</td>\n",
       "      <td>[Action, Comedy, Sci-Fi]</td>\n",
       "      <td>2018.0</td>\n",
       "    </tr>\n",
       "    <tr>\n",
       "      <th>...</th>\n",
       "      <td>...</td>\n",
       "      <td>...</td>\n",
       "      <td>...</td>\n",
       "      <td>...</td>\n",
       "    </tr>\n",
       "    <tr>\n",
       "      <th>9724</th>\n",
       "      <td>102747</td>\n",
       "      <td>Rink, The</td>\n",
       "      <td>[Comedy]</td>\n",
       "      <td>1916.0</td>\n",
       "    </tr>\n",
       "    <tr>\n",
       "      <th>9725</th>\n",
       "      <td>7065</td>\n",
       "      <td>Birth of a Nation, The</td>\n",
       "      <td>[Drama, War]</td>\n",
       "      <td>1915.0</td>\n",
       "    </tr>\n",
       "    <tr>\n",
       "      <th>9726</th>\n",
       "      <td>140541</td>\n",
       "      <td>The Electric Hotel</td>\n",
       "      <td>[Animation, Comedy, Sci-Fi]</td>\n",
       "      <td>1908.0</td>\n",
       "    </tr>\n",
       "    <tr>\n",
       "      <th>9727</th>\n",
       "      <td>49389</td>\n",
       "      <td>The Great Train Robbery</td>\n",
       "      <td>[Crime, Western]</td>\n",
       "      <td>1903.0</td>\n",
       "    </tr>\n",
       "    <tr>\n",
       "      <th>9728</th>\n",
       "      <td>32898</td>\n",
       "      <td>Trip to the Moon, A (Voyage dans la lune, Le)</td>\n",
       "      <td>[Action, Adventure, Fantasy, Sci-Fi]</td>\n",
       "      <td>1902.0</td>\n",
       "    </tr>\n",
       "  </tbody>\n",
       "</table>\n",
       "<p>9729 rows × 4 columns</p>\n",
       "</div>"
      ],
      "text/plain": [
       "      movieId                                          title  \\\n",
       "0      183295                        Insidious: The Last Key   \n",
       "1      184987                              A Wrinkle in Time   \n",
       "2      187717                      Won't You Be My Neighbor?   \n",
       "3      187595                        Solo: A Star Wars Story   \n",
       "4      187593                                     Deadpool 2   \n",
       "...       ...                                            ...   \n",
       "9724   102747                                      Rink, The   \n",
       "9725     7065                         Birth of a Nation, The   \n",
       "9726   140541                             The Electric Hotel   \n",
       "9727    49389                        The Great Train Robbery   \n",
       "9728    32898  Trip to the Moon, A (Voyage dans la lune, Le)   \n",
       "\n",
       "                                      genres  release_year  \n",
       "0                [Horror, Mystery, Thriller]        2018.0  \n",
       "1     [Adventure, Children, Fantasy, Sci-Fi]        2018.0  \n",
       "2                              [Documentary]        2018.0  \n",
       "3      [Action, Adventure, Children, Sci-Fi]        2018.0  \n",
       "4                   [Action, Comedy, Sci-Fi]        2018.0  \n",
       "...                                      ...           ...  \n",
       "9724                                [Comedy]        1916.0  \n",
       "9725                            [Drama, War]        1915.0  \n",
       "9726             [Animation, Comedy, Sci-Fi]        1908.0  \n",
       "9727                        [Crime, Western]        1903.0  \n",
       "9728    [Action, Adventure, Fantasy, Sci-Fi]        1902.0  \n",
       "\n",
       "[9729 rows x 4 columns]"
      ]
     },
     "execution_count": 1094,
     "metadata": {},
     "output_type": "execute_result"
    }
   ],
   "source": [
    "movies[\"release_year\"] = movies[\"title\"].apply(lambda x: release_year(x)[0])\n",
    "movies[\"title\"] = movies[\"title\"].apply(lambda x: release_year(x)[1])\n",
    "movies.sort_values(by=\"release_year\",ascending=False).reset_index(drop=\"index\").dropna()"
   ]
  },
  {
   "cell_type": "code",
   "execution_count": 1095,
   "metadata": {},
   "outputs": [],
   "source": [
    "df = pd.merge(ratings, movies, how=\"inner\")\n",
    "groupby_data = df.groupby([\"release_year\", \"rating\"]).size().unstack(fill_value=0)"
   ]
  },
  {
   "cell_type": "code",
   "execution_count": 1096,
   "metadata": {},
   "outputs": [],
   "source": [
    "highest_rating_in_release_year = groupby_data.idxmax()\n",
    "lowest_rating_in_release_year = groupby_data.idxmin()"
   ]
  },
  {
   "cell_type": "code",
   "execution_count": 1097,
   "metadata": {},
   "outputs": [
    {
     "data": {
      "text/plain": [
       "<Figure size 1200x600 with 0 Axes>"
      ]
     },
     "metadata": {},
     "output_type": "display_data"
    },
    {
     "data": {
      "image/png": "[encoded data removed]",
      "text/plain": [
       "<Figure size 1200x600 with 1 Axes>"
      ]
     },
     "metadata": {},
     "output_type": "display_data"
    }
   ],
   "source": [
    "plt.figure(figsize=(12, 6))\n",
    "groupby_data.plot(kind='bar', stacked=True, figsize=(12, 6))\n",
    "\n",
    "# Setting x-axis ticks to every 2 years\n",
    "years = np.arange(df['release_year'].min(), df['release_year'].max() + 1, 2)\n",
    "plt.xticks(years - df['release_year'].min(), years)\n",
    "\n",
    "plt.title('Distribution of Ratings by Release Year')\n",
    "plt.xlabel('Release Year')\n",
    "plt.ylabel('Number of Ratings')\n",
    "plt.show()"
   ]
  },
  {
   "cell_type": "markdown",
   "metadata": {},
   "source": [
    "# Step 4 : Data Pre-processing\n"
   ]
  },
  {
   "cell_type": "code",
   "execution_count": 1098,
   "metadata": {},
   "outputs": [],
   "source": [
    "from scipy.sparse import csr_matrix \n",
    "\n",
    "def create_x(df):\n",
    "    \"\"\"Generates a sparse matrix from ratings dataframe\n",
    "\n",
    "    Args:\n",
    "        df (pd.DatatFrame): pandas dataframe containing 3 columns (userId, movieId, rating)\n",
    "\n",
    "    Returns:\n",
    "        X: sparse matrix\n",
    "        user_mapper: dict that mape user id's to user indices\n",
    "        user_inv_mapper: dict that mape user indices to user id's \n",
    "        movie_mapper: dict that mape movie id's to movie indices\n",
    "        movie_inv_mapper: dict that mape movie indices to movie id's\n",
    "    \"\"\"\n",
    "\n",
    "    M = df[\"userId\"].nunique()\n",
    "    N = df[\"movieId\"].nunique()\n",
    "\n",
    "    user_mapper = dict(zip(df[\"userId\"].unique(), list(range(M))))\n",
    "    movie_mapper = dict(zip(df[\"movieId\"].unique(), list(range(N))))\n",
    "\n",
    "    user_inv_mapper = dict(zip(list(range(M)), df[\"userId\"].unique()))\n",
    "    movie_inv_mapper = dict(zip(list(range(N)), df[\"movieId\"].unique()))\n",
    "\n",
    "    user_index = [user_mapper[i] for i in df[\"userId\"]]\n",
    "    movie_index = [movie_mapper[i] for i in df[\"movieId\"]]\n",
    "\n",
    "    X = csr_matrix((df[\"rating\"], (user_index, movie_index)), shape=(M, N))\n",
    "\n",
    "    return X, user_mapper, movie_mapper, user_inv_mapper, movie_inv_mapper\n",
    "\n",
    "x, user_mapper, movie_mapper, ususer_inv_mappere, movie_inv_mapper = create_x(ratings)\n",
    "\n"
   ]
  },
  {
   "cell_type": "code",
   "execution_count": 1099,
   "metadata": {},
   "outputs": [
    {
     "data": {
      "text/plain": [
       "(610, 9724)"
      ]
     },
     "execution_count": 1099,
     "metadata": {},
     "output_type": "execute_result"
    }
   ],
   "source": [
    "x.shape"
   ]
  },
  {
   "cell_type": "markdown",
   "metadata": {},
   "source": [
    "**Evaluating sparsity**"
   ]
  },
  {
   "cell_type": "code",
   "execution_count": 1100,
   "metadata": {},
   "outputs": [
    {
     "name": "stdout",
     "output_type": "stream",
     "text": [
      "Matrix sparsity : 1.7%\n"
     ]
    }
   ],
   "source": [
    "n_total = x.shape[0]*x.shape[1]\n",
    "n_ratings = x.nnz\n",
    "sparsity = n_ratings/n_total\n",
    "print(f\"Matrix sparsity : {round(sparsity*100, 2)}%\")"
   ]
  },
  {
   "cell_type": "code",
   "execution_count": 1101,
   "metadata": {},
   "outputs": [
    {
     "data": {
      "text/plain": [
       "610"
      ]
     },
     "execution_count": 1101,
     "metadata": {},
     "output_type": "execute_result"
    }
   ],
   "source": [
    "n_ratings_per_user = x.getnnz(axis=1)\n",
    "len(n_ratings_per_user)"
   ]
  },
  {
   "cell_type": "code",
   "execution_count": 1102,
   "metadata": {},
   "outputs": [
    {
     "name": "stdout",
     "output_type": "stream",
     "text": [
      "Most active user rated 2698 movies.\n",
      "Least active user rated 20 movies.\n"
     ]
    }
   ],
   "source": [
    "print(f\"Most active user rated {n_ratings_per_user.max()} movies.\")\n",
    "print(f\"Least active user rated {n_ratings_per_user.min()} movies.\")"
   ]
  },
  {
   "cell_type": "code",
   "execution_count": 1103,
   "metadata": {},
   "outputs": [
    {
     "data": {
      "text/plain": [
       "9724"
      ]
     },
     "execution_count": 1103,
     "metadata": {},
     "output_type": "execute_result"
    }
   ],
   "source": [
    "n_ratings_per_movie = x.getnnz(axis=0)\n",
    "len(n_ratings_per_movie)"
   ]
  },
  {
   "cell_type": "code",
   "execution_count": 1104,
   "metadata": {},
   "outputs": [
    {
     "name": "stdout",
     "output_type": "stream",
     "text": [
      "Most active  mvoie rated 329 ratings.\n",
      "Least active mvoie rated 1 ratings.\n"
     ]
    }
   ],
   "source": [
    "print(f\"Most active  mvoie rated {n_ratings_per_movie.max()} ratings.\")\n",
    "print(f\"Least active mvoie rated {n_ratings_per_movie.min()} ratings.\")"
   ]
  },
  {
   "cell_type": "code",
   "execution_count": 1105,
   "metadata": {},
   "outputs": [
    {
     "data": {
      "image/png": "[encoded data removed]",
      "text/plain": [
       "<Figure size 1600x400 with 2 Axes>"
      ]
     },
     "metadata": {},
     "output_type": "display_data"
    }
   ],
   "source": [
    "plt.figure(figsize=(16, 4))\n",
    "plt.subplot(1,2,1)\n",
    "sns.kdeplot(n_ratings_per_user, fill=True)\n",
    "plt.xlim(0)\n",
    "plt.title(\"Number of Ratings Per User\", fontsize=14)\n",
    "plt.xlabel(\"number of ratings per user\")\n",
    "plt.ylabel(\"density\")\n",
    "plt.subplot(1,2,2)\n",
    "sns.kdeplot(n_ratings_per_movie, fill=True)\n",
    "plt.xlim(0)\n",
    "plt.title(\"Number of Ratings Per Movie\", fontsize=14)\n",
    "plt.xlabel(\"number of ratings per movie\")\n",
    "plt.ylabel(\"density\")\n",
    "plt.show()"
   ]
  },
  {
   "cell_type": "markdown",
   "metadata": {},
   "source": [
    "# Step 5 : Item-Item Recommendation with k-Nearest Neighbors"
   ]
  },
  {
   "cell_type": "code",
   "execution_count": 1106,
   "metadata": {},
   "outputs": [],
   "source": [
    "from sklearn.neighbors import NearestNeighbors\n",
    "\n",
    "def find_similar_movies(movie_id, X, movie_mapper, movie_inv_mapper, k, metric=\"cosine\"):\n",
    "    \"\"\"Finds k-nearest neighbours for a given movie id.\n",
    "\n",
    "    Args:\n",
    "        movie_id (int): id of the movie of interest\n",
    "        X (np.array): user-item utility matrix\n",
    "        k (int): number of similar movies to retrieve \n",
    "        metric (str, optional): distance metric for KNN calculation. Defaults to \"cosine\".\n",
    "    \n",
    "    output : return list of k similar movies ID's\n",
    "    \"\"\"\n",
    "    X = X.T\n",
    "    neighbour_ids = []\n",
    "\n",
    "    movie_ind = movie_mapper[movie_id]\n",
    "    movie_vec = X[movie_ind]\n",
    "    if isinstance(movie_vec, (np.ndarray)):\n",
    "        movie_vec = movie_vec.reshape(1, -1)\n",
    "\n",
    "    KNN = NearestNeighbors(n_neighbors=k+1, algorithm=\"brute\", metric=metric)\n",
    "    KNN.fit(X)\n",
    "    neighbour = KNN.kneighbors(movie_vec, return_distance=False)\n",
    "    for i in range(0, k):\n",
    "        n = neighbour.item(i)\n",
    "        neighbour_ids.append(movie_inv_mapper[n])\n",
    "    neighbour_ids.pop(0)\n",
    "\n",
    "    return neighbour_ids\n"
   ]
  },
  {
   "cell_type": "code",
   "execution_count": 1107,
   "metadata": {},
   "outputs": [
    {
     "name": "stdout",
     "output_type": "stream",
     "text": [
      "Because your watched 'Toy Story'\n",
      "Toy Story 2\n",
      "Jurassic Park\n",
      "Independence Day (a.k.a. ID4)\n",
      "Star Wars: Episode IV - A New Hope\n",
      "Forrest Gump\n",
      "Lion King, The\n",
      "Star Wars: Episode VI - Return of the Jedi\n",
      "Mission: Impossible\n",
      "Groundhog Day\n"
     ]
    }
   ],
   "source": [
    "movie_titles = dict(zip(movies[\"movieId\"], movies[\"title\"]))\n",
    "k =10\n",
    "movie_id = 1\n",
    "similar_movies = find_similar_movies(movie_id, x, movie_mapper, movie_inv_mapper, k=k)\n",
    "movie_title = movie_titles[movie_id]\n",
    "\n",
    "print(f\"Because your watched '{movie_title}'\")\n",
    "for i in similar_movies:\n",
    "    print(movie_titles[i])"
   ]
  },
  {
   "cell_type": "code",
   "execution_count": 1108,
   "metadata": {},
   "outputs": [
    {
     "name": "stdout",
     "output_type": "stream",
     "text": [
      "Because your watched 'Toy Story'\n",
      "Toy Story 2\n",
      "Mission: Impossible\n",
      "Independence Day (a.k.a. ID4)\n",
      "Bug's Life, A\n",
      "Nutty Professor, The\n",
      "Willy Wonka & the Chocolate Factory\n",
      "Babe\n",
      "Groundhog Day\n",
      "Mask, The\n"
     ]
    }
   ],
   "source": [
    "movie_titles = dict(zip(movies[\"movieId\"], movies[\"title\"]))\n",
    "k =10\n",
    "movie_id = 1\n",
    "similar_movies = find_similar_movies(movie_id, x, movie_mapper, movie_inv_mapper, metric=\"euclidean\",k=k )\n",
    "movie_title = movie_titles[movie_id]\n",
    "\n",
    "print(f\"Because your watched '{movie_title}'\")\n",
    "for i in similar_movies:\n",
    "    print(movie_titles[i])"
   ]
  },
  {
   "cell_type": "markdown",
   "metadata": {},
   "source": [
    "# Step : Handeling the cold-start problem"
   ]
  },
  {
   "cell_type": "code",
   "execution_count": 1123,
   "metadata": {},
   "outputs": [],
   "source": [
    "genres = set(g for G in movies[\"genres\"] for g in G)\n",
    "\n",
    "for g in genres:\n",
    "    movies[g] = movies.genres.transform(lambda x: int(g in x))\n",
    "\n",
    "\n",
    "movie_genres = movies.drop(columns=['genres'])"
   ]
  },
  {
   "cell_type": "code",
   "execution_count": 1128,
   "metadata": {},
   "outputs": [
    {
     "data": {
      "text/html": [
       "<div>\n",
       "<style scoped>\n",
       "    .dataframe tbody tr th:only-of-type {\n",
       "        vertical-align: middle;\n",
       "    }\n",
       "\n",
       "    .dataframe tbody tr th {\n",
       "        vertical-align: top;\n",
       "    }\n",
       "\n",
       "    .dataframe thead th {\n",
       "        text-align: right;\n",
       "    }\n",
       "</style>\n",
       "<table border=\"1\" class=\"dataframe\">\n",
       "  <thead>\n",
       "    <tr style=\"text-align: right;\">\n",
       "      <th></th>\n",
       "      <th>movieId</th>\n",
       "      <th>title</th>\n",
       "      <th>release_year</th>\n",
       "      <th>Crime</th>\n",
       "      <th>Fantasy</th>\n",
       "      <th>Action</th>\n",
       "      <th>Film-Noir</th>\n",
       "      <th>(no genres listed)</th>\n",
       "      <th>Drama</th>\n",
       "      <th>War</th>\n",
       "      <th>...</th>\n",
       "      <th>Western</th>\n",
       "      <th>Documentary</th>\n",
       "      <th>Children</th>\n",
       "      <th>Mystery</th>\n",
       "      <th>Musical</th>\n",
       "      <th>Sci-Fi</th>\n",
       "      <th>IMAX</th>\n",
       "      <th>userId</th>\n",
       "      <th>rating</th>\n",
       "      <th>timestamp</th>\n",
       "    </tr>\n",
       "  </thead>\n",
       "  <tbody>\n",
       "    <tr>\n",
       "      <th>0</th>\n",
       "      <td>1</td>\n",
       "      <td>Toy Story</td>\n",
       "      <td>1995.0</td>\n",
       "      <td>0</td>\n",
       "      <td>1</td>\n",
       "      <td>0</td>\n",
       "      <td>0</td>\n",
       "      <td>0</td>\n",
       "      <td>0</td>\n",
       "      <td>0</td>\n",
       "      <td>...</td>\n",
       "      <td>0</td>\n",
       "      <td>0</td>\n",
       "      <td>1</td>\n",
       "      <td>0</td>\n",
       "      <td>0</td>\n",
       "      <td>0</td>\n",
       "      <td>0</td>\n",
       "      <td>1</td>\n",
       "      <td>4.0</td>\n",
       "      <td>964982703</td>\n",
       "    </tr>\n",
       "    <tr>\n",
       "      <th>1</th>\n",
       "      <td>1</td>\n",
       "      <td>Toy Story</td>\n",
       "      <td>1995.0</td>\n",
       "      <td>0</td>\n",
       "      <td>1</td>\n",
       "      <td>0</td>\n",
       "      <td>0</td>\n",
       "      <td>0</td>\n",
       "      <td>0</td>\n",
       "      <td>0</td>\n",
       "      <td>...</td>\n",
       "      <td>0</td>\n",
       "      <td>0</td>\n",
       "      <td>1</td>\n",
       "      <td>0</td>\n",
       "      <td>0</td>\n",
       "      <td>0</td>\n",
       "      <td>0</td>\n",
       "      <td>5</td>\n",
       "      <td>4.0</td>\n",
       "      <td>847434962</td>\n",
       "    </tr>\n",
       "    <tr>\n",
       "      <th>2</th>\n",
       "      <td>1</td>\n",
       "      <td>Toy Story</td>\n",
       "      <td>1995.0</td>\n",
       "      <td>0</td>\n",
       "      <td>1</td>\n",
       "      <td>0</td>\n",
       "      <td>0</td>\n",
       "      <td>0</td>\n",
       "      <td>0</td>\n",
       "      <td>0</td>\n",
       "      <td>...</td>\n",
       "      <td>0</td>\n",
       "      <td>0</td>\n",
       "      <td>1</td>\n",
       "      <td>0</td>\n",
       "      <td>0</td>\n",
       "      <td>0</td>\n",
       "      <td>0</td>\n",
       "      <td>7</td>\n",
       "      <td>4.5</td>\n",
       "      <td>1106635946</td>\n",
       "    </tr>\n",
       "    <tr>\n",
       "      <th>3</th>\n",
       "      <td>1</td>\n",
       "      <td>Toy Story</td>\n",
       "      <td>1995.0</td>\n",
       "      <td>0</td>\n",
       "      <td>1</td>\n",
       "      <td>0</td>\n",
       "      <td>0</td>\n",
       "      <td>0</td>\n",
       "      <td>0</td>\n",
       "      <td>0</td>\n",
       "      <td>...</td>\n",
       "      <td>0</td>\n",
       "      <td>0</td>\n",
       "      <td>1</td>\n",
       "      <td>0</td>\n",
       "      <td>0</td>\n",
       "      <td>0</td>\n",
       "      <td>0</td>\n",
       "      <td>15</td>\n",
       "      <td>2.5</td>\n",
       "      <td>1510577970</td>\n",
       "    </tr>\n",
       "    <tr>\n",
       "      <th>4</th>\n",
       "      <td>1</td>\n",
       "      <td>Toy Story</td>\n",
       "      <td>1995.0</td>\n",
       "      <td>0</td>\n",
       "      <td>1</td>\n",
       "      <td>0</td>\n",
       "      <td>0</td>\n",
       "      <td>0</td>\n",
       "      <td>0</td>\n",
       "      <td>0</td>\n",
       "      <td>...</td>\n",
       "      <td>0</td>\n",
       "      <td>0</td>\n",
       "      <td>1</td>\n",
       "      <td>0</td>\n",
       "      <td>0</td>\n",
       "      <td>0</td>\n",
       "      <td>0</td>\n",
       "      <td>17</td>\n",
       "      <td>4.5</td>\n",
       "      <td>1305696483</td>\n",
       "    </tr>\n",
       "  </tbody>\n",
       "</table>\n",
       "<p>5 rows × 26 columns</p>\n",
       "</div>"
      ],
      "text/plain": [
       "   movieId      title  release_year  Crime  Fantasy  Action  Film-Noir  \\\n",
       "0        1  Toy Story        1995.0      0        1       0          0   \n",
       "1        1  Toy Story        1995.0      0        1       0          0   \n",
       "2        1  Toy Story        1995.0      0        1       0          0   \n",
       "3        1  Toy Story        1995.0      0        1       0          0   \n",
       "4        1  Toy Story        1995.0      0        1       0          0   \n",
       "\n",
       "   (no genres listed)  Drama  War  ...  Western  Documentary  Children  \\\n",
       "0                   0      0    0  ...        0            0         1   \n",
       "1                   0      0    0  ...        0            0         1   \n",
       "2                   0      0    0  ...        0            0         1   \n",
       "3                   0      0    0  ...        0            0         1   \n",
       "4                   0      0    0  ...        0            0         1   \n",
       "\n",
       "   Mystery  Musical  Sci-Fi  IMAX  userId  rating   timestamp  \n",
       "0        0        0       0     0       1     4.0   964982703  \n",
       "1        0        0       0     0       5     4.0   847434962  \n",
       "2        0        0       0     0       7     4.5  1106635946  \n",
       "3        0        0       0     0      15     2.5  1510577970  \n",
       "4        0        0       0     0      17     4.5  1305696483  \n",
       "\n",
       "[5 rows x 26 columns]"
      ]
     },
     "execution_count": 1128,
     "metadata": {},
     "output_type": "execute_result"
    }
   ],
   "source": [
    "merged_moviegene_and_rating = pd.merge(movie_genres, ratings, how=\"inner\")\n",
    "merged_moviegene_and_rating.head()"
   ]
  },
  {
   "cell_type": "code",
   "execution_count": 1145,
   "metadata": {},
   "outputs": [
    {
     "data": {
      "text/plain": [
       "rating\n",
       "0.5    Austin Powers: The Spy Who Shagged Me\n",
       "1.0          Dumb & Dumber (Dumb and Dumber)\n",
       "1.5                    Dude, Where's My Car?\n",
       "2.0               Ace Ventura: Pet Detective\n",
       "2.5          Dumb & Dumber (Dumb and Dumber)\n",
       "3.0                                   Batman\n",
       "3.5            Independence Day (a.k.a. ID4)\n",
       "4.0                            Jurassic Park\n",
       "4.5                               Fight Club\n",
       "5.0                Shawshank Redemption, The\n",
       "dtype: object"
      ]
     },
     "execution_count": 1145,
     "metadata": {},
     "output_type": "execute_result"
    }
   ],
   "source": [
    "merged_moviegene_and_rating.groupby([\"title\",\"rating\"]).size().unstack(fill_value=0).idxmax()"
   ]
  },
  {
   "cell_type": "markdown",
   "metadata": {},
   "source": [
    "**cosine_similarity**  \n",
    "\n",
    "measures the similarity between two vectors of an inner product space.\n",
    "\n",
    "\n",
    "![](data:image/png;base64,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)\n"
   ]
  },
  {
   "cell_type": "code",
   "execution_count": 1111,
   "metadata": {},
   "outputs": [],
   "source": [
    "from sklearn.metrics.pairwise import cosine_similarity\n",
    "\n",
    "consine_sim = cosine_similarity(movie_genres, movie_genres)"
   ]
  },
  {
   "cell_type": "code",
   "execution_count": 1112,
   "metadata": {},
   "outputs": [],
   "source": [
    "from fuzzywuzzy import process\n",
    "\n",
    "def movie_finder(title):\n",
    "    all_titles = movies[\"title\"].tolist()\n",
    "    closest_match = process.extractOne(title, all_titles)\n",
    "    return closest_match[0]"
   ]
  },
  {
   "cell_type": "code",
   "execution_count": 1113,
   "metadata": {},
   "outputs": [
    {
     "data": {
      "text/plain": [
       "'Return to Oz'"
      ]
     },
     "execution_count": 1113,
     "metadata": {},
     "output_type": "execute_result"
    }
   ],
   "source": [
    "name = \"Return to Oz\"\n",
    "title = movie_finder(name)\n",
    "title"
   ]
  },
  {
   "cell_type": "code",
   "execution_count": 1114,
   "metadata": {},
   "outputs": [
    {
     "name": "stdout",
     "output_type": "stream",
     "text": [
      "Movie index for Return to Oz: 1556\n"
     ]
    }
   ],
   "source": [
    "movie_idx = dict(zip(movies[\"title\"], list(movies.index)))\n",
    "idx = movie_idx[title]\n",
    "print(f\"Movie index for {name}: {idx}\")"
   ]
  },
  {
   "cell_type": "code",
   "execution_count": 1115,
   "metadata": {},
   "outputs": [
    {
     "data": {
      "text/plain": [
       "[(53, np.float64(1.0000000000000002)),\n",
       " (109, np.float64(1.0000000000000002)),\n",
       " (767, np.float64(1.0000000000000002)),\n",
       " (1514, np.float64(1.0000000000000002)),\n",
       " (1556, np.float64(1.0000000000000002)),\n",
       " (1617, np.float64(1.0000000000000002)),\n",
       " (1618, np.float64(1.0000000000000002)),\n",
       " (1799, np.float64(1.0000000000000002)),\n",
       " (3574, np.float64(1.0000000000000002)),\n",
       " (6075, np.float64(1.0000000000000002))]"
      ]
     },
     "execution_count": 1115,
     "metadata": {},
     "output_type": "execute_result"
    }
   ],
   "source": [
    "n_recommendation = 10\n",
    "sim_scores = list(enumerate(consine_sim[idx]))\n",
    "sim_scores = sorted(sim_scores, key=lambda x: x[1], reverse=True)\n",
    "sim_scores = sim_scores[1:(n_recommendation+1)]\n",
    "sim_scores"
   ]
  },
  {
   "cell_type": "code",
   "execution_count": 1116,
   "metadata": {},
   "outputs": [
    {
     "data": {
      "text/plain": [
       "[53, 109, 767, 1514, 1556, 1617, 1618, 1799, 3574, 6075]"
      ]
     },
     "execution_count": 1116,
     "metadata": {},
     "output_type": "execute_result"
    }
   ],
   "source": [
    "similar_movies = [i[0] for i in sim_scores]\n",
    "similar_movies"
   ]
  },
  {
   "cell_type": "code",
   "execution_count": 1117,
   "metadata": {},
   "outputs": [
    {
     "name": "stdout",
     "output_type": "stream",
     "text": [
      "Because you watched Return to Oz\n"
     ]
    },
    {
     "data": {
      "text/plain": [
       "53                            Indian in the Cupboard, The\n",
       "109                            NeverEnding Story III, The\n",
       "767                              Escape to Witch Mountain\n",
       "1514                   Darby O'Gill and the Little People\n",
       "1556                                         Return to Oz\n",
       "1617                               NeverEnding Story, The\n",
       "1618          NeverEnding Story II: The Next Chapter, The\n",
       "1799                               Santa Claus: The Movie\n",
       "3574    Harry Potter and the Sorcerer's Stone (a.k.a. ...\n",
       "6075    Chronicles of Narnia: The Lion, the Witch and ...\n",
       "Name: title, dtype: object"
      ]
     },
     "execution_count": 1117,
     "metadata": {},
     "output_type": "execute_result"
    }
   ],
   "source": [
    "print(f\"Because you watched {title}\")\n",
    "movies[\"title\"].iloc[similar_movies]"
   ]
  },
  {
   "cell_type": "code",
   "execution_count": 1118,
   "metadata": {},
   "outputs": [],
   "source": [
    "def get_content_based_recommedation(title_string:str, n_recommendation: int = 10):\n",
    "    title = movie_finder(title_string)\n",
    "    idx = movie_idx[title]\n",
    "    sim_scores = list(enumerate(consine_sim[idx]))\n",
    "    sim_scores = sorted(sim_scores, key=lambda x: x[1], reverse=True)\n",
    "    sim_scores = sim_scores[1:(n_recommendation+1)]\n",
    "    similar_movies = [i[0] for i in sim_scores]\n",
    "    print(f\"Because you watched {title}\")\n",
    "    print(movies[\"title\"].iloc[similar_movies])"
   ]
  },
  {
   "cell_type": "code",
   "execution_count": 1119,
   "metadata": {},
   "outputs": [
    {
     "name": "stdout",
     "output_type": "stream",
     "text": [
      "Because you watched Toy Story\n",
      "1706                                       Antz\n",
      "2355                                Toy Story 2\n",
      "2809    Adventures of Rocky and Bullwinkle, The\n",
      "3000                  Emperor's New Groove, The\n",
      "3568                             Monsters, Inc.\n",
      "Name: title, dtype: object\n"
     ]
    }
   ],
   "source": [
    "get_content_based_recommedation(\"toy story\", 5)"
   ]
  },
  {
   "cell_type": "markdown",
   "metadata": {},
   "source": [
    "# Step 7 : Dimensionality Reduction with matrix factorization"
   ]
  },
  {
   "cell_type": "code",
   "execution_count": 1120,
   "metadata": {},
   "outputs": [
    {
     "data": {
      "text/plain": [
       "(9724, 20)"
      ]
     },
     "execution_count": 1120,
     "metadata": {},
     "output_type": "execute_result"
    }
   ],
   "source": [
    "from sklearn.decomposition import TruncatedSVD\n",
    "\n",
    "svd = TruncatedSVD(n_components=20 , n_iter=10)\n",
    "Q = svd.fit_transform(x.T)\n",
    "Q.shape"
   ]
  },
  {
   "cell_type": "code",
   "execution_count": 1121,
   "metadata": {},
   "outputs": [
    {
     "name": "stdout",
     "output_type": "stream",
     "text": [
      "Because your watched 'Toy Story'\n",
      "Home Alone\n",
      "Jurassic Park\n",
      "Aladdin\n",
      "Willy Wonka & the Chocolate Factory\n",
      "Back to the Future\n",
      "Forrest Gump\n",
      "Groundhog Day\n",
      "Star Wars: Episode IV - A New Hope\n",
      "Princess Bride, The\n"
     ]
    }
   ],
   "source": [
    "movie_id = 1\n",
    "similar_movies = find_similar_movies(movie_id, Q.T, movie_mapper, movie_inv_mapper, metric=\"cosine\",k=k )\n",
    "movie_title = movie_titles[movie_id]\n",
    "\n",
    "print(f\"Because your watched '{movie_title}'\")\n",
    "for i in similar_movies:\n",
    "    print(movie_titles[i])"
   ]
  }
 ],
 "metadata": {
  "kernelspec": {
   "display_name": ".venv",
   "language": "python",
   "name": "python3"
  },
  "language_info": {
   "codemirror_mode": {
    "name": "ipython",
    "version": 3
   },
   "file_extension": ".py",
   "mimetype": "text/x-python",
   "name": "python",
   "nbconvert_exporter": "python",
   "pygments_lexer": "ipython3",
   "version": "3.11.2"
  }
 },
 "nbformat": 4,
 "nbformat_minor": 2
}
